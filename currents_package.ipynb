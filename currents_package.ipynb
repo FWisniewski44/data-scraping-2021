{
 "cells": [
  {
   "cell_type": "code",
   "execution_count": 6,
   "id": "c8474b70",
   "metadata": {},
   "outputs": [],
   "source": [
    "import requests\n",
    "from currentsapi import CurrentsAPI"
   ]
  },
  {
   "cell_type": "code",
   "execution_count": 5,
   "id": "d7489572",
   "metadata": {
    "collapsed": true
   },
   "outputs": [
    {
     "name": "stdout",
     "output_type": "stream",
     "text": [
      "Collecting currentsapi\n",
      "  Downloading currentsapi-0.0.2-py2.py3-none-any.whl (9.2 kB)\n",
      "Collecting requests==2.21.0\n",
      "  Downloading requests-2.21.0-py2.py3-none-any.whl (57 kB)\n",
      "\u001b[K     |████████████████████████████████| 57 kB 2.3 MB/s eta 0:00:01\n",
      "\u001b[?25hCollecting python-dateutil==2.8.0\n",
      "  Downloading python_dateutil-2.8.0-py2.py3-none-any.whl (226 kB)\n",
      "\u001b[K     |████████████████████████████████| 226 kB 3.0 MB/s eta 0:00:01\n",
      "\u001b[?25hRequirement already satisfied: six>=1.5 in /Users/flo/opt/anaconda3/lib/python3.7/site-packages (from python-dateutil==2.8.0->currentsapi) (1.16.0)\n",
      "Collecting idna<2.9,>=2.5\n",
      "  Downloading idna-2.8-py2.py3-none-any.whl (58 kB)\n",
      "\u001b[K     |████████████████████████████████| 58 kB 3.3 MB/s eta 0:00:011\n",
      "\u001b[?25hCollecting chardet<3.1.0,>=3.0.2\n",
      "  Downloading chardet-3.0.4-py2.py3-none-any.whl (133 kB)\n",
      "\u001b[K     |████████████████████████████████| 133 kB 5.2 MB/s eta 0:00:01\n",
      "\u001b[?25hRequirement already satisfied: certifi>=2017.4.17 in /Users/flo/opt/anaconda3/lib/python3.7/site-packages (from requests==2.21.0->currentsapi) (2021.5.30)\n",
      "Collecting urllib3<1.25,>=1.21.1\n",
      "  Downloading urllib3-1.24.3-py2.py3-none-any.whl (118 kB)\n",
      "\u001b[K     |████████████████████████████████| 118 kB 5.5 MB/s eta 0:00:01\n",
      "\u001b[?25hInstalling collected packages: urllib3, idna, chardet, requests, python-dateutil, currentsapi\n",
      "  Attempting uninstall: urllib3\n",
      "    Found existing installation: urllib3 1.26.4\n",
      "    Uninstalling urllib3-1.26.4:\n",
      "      Successfully uninstalled urllib3-1.26.4\n",
      "  Attempting uninstall: idna\n",
      "    Found existing installation: idna 2.10\n",
      "    Uninstalling idna-2.10:\n",
      "      Successfully uninstalled idna-2.10\n",
      "  Attempting uninstall: chardet\n",
      "    Found existing installation: chardet 4.0.0\n",
      "    Uninstalling chardet-4.0.0:\n",
      "      Successfully uninstalled chardet-4.0.0\n",
      "  Attempting uninstall: requests\n",
      "    Found existing installation: requests 2.25.1\n",
      "    Uninstalling requests-2.25.1:\n",
      "      Successfully uninstalled requests-2.25.1\n",
      "  Attempting uninstall: python-dateutil\n",
      "    Found existing installation: python-dateutil 2.8.1\n",
      "    Uninstalling python-dateutil-2.8.1:\n",
      "      Successfully uninstalled python-dateutil-2.8.1\n",
      "\u001b[31mERROR: pip's dependency resolver does not currently take into account all the packages that are installed. This behaviour is the source of the following dependency conflicts.\n",
      "spyder 4.1.5 requires pyqt5<5.13; python_version >= \"3\", which is not installed.\n",
      "spyder 4.1.5 requires pyqtwebengine<5.13; python_version >= \"3\", which is not installed.\n",
      "anaconda-project 0.10.0 requires ruamel-yaml, which is not installed.\n",
      "sphinx 4.0.1 requires Jinja2<3.0,>=2.3, but you have jinja2 3.0.0 which is incompatible.\n",
      "sphinx 4.0.1 requires MarkupSafe<2.0, but you have markupsafe 2.0.1 which is incompatible.\u001b[0m\n",
      "Successfully installed chardet-3.0.4 currentsapi-0.0.2 idna-2.8 python-dateutil-2.8.0 requests-2.21.0 urllib3-1.24.3\n",
      "Note: you may need to restart the kernel to use updated packages.\n"
     ]
    }
   ],
   "source": [
    "pip install currentsapi"
   ]
  },
  {
   "cell_type": "code",
   "execution_count": 8,
   "id": "0f97979d",
   "metadata": {},
   "outputs": [],
   "source": [
    "api = CurrentsAPI(api_key=\"OCoZLlqojAZ4Ci4eovRL4uqeXXTIP9KI3Cco3XRMSmDDzr3g\")"
   ]
  },
  {
   "cell_type": "code",
   "execution_count": 14,
   "id": "0becd43c",
   "metadata": {},
   "outputs": [
    {
     "data": {
      "text/plain": [
       "dict"
      ]
     },
     "execution_count": 14,
     "metadata": {},
     "output_type": "execute_result"
    }
   ],
   "source": [
    "api.search()"
   ]
  }
 ],
 "metadata": {
  "kernelspec": {
   "display_name": "Python 3",
   "language": "python",
   "name": "python3"
  },
  "language_info": {
   "codemirror_mode": {
    "name": "ipython",
    "version": 3
   },
   "file_extension": ".py",
   "mimetype": "text/x-python",
   "name": "python",
   "nbconvert_exporter": "python",
   "pygments_lexer": "ipython3",
   "version": "3.7.7"
  }
 },
 "nbformat": 4,
 "nbformat_minor": 5
}
